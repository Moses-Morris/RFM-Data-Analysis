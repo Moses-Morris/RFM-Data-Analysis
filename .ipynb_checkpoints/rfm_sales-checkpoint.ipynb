{
 "cells": [
  {
   "cell_type": "code",
   "execution_count": 15,
   "id": "507ee018-dfa6-4b10-b4df-5172e6bbfa85",
   "metadata": {},
   "outputs": [],
   "source": [
    "import matplotlib.pyplot  as plt\n",
    "import pandas as pd\n",
    "import numpy as np\n",
    "import sklearn as sk\n",
    "import seaborn as sbn\n",
    "from datetime import datetime\n",
    "\n",
    "df = pd.read_csv('rfm_data.csv')"
   ]
  },
  {
   "cell_type": "code",
   "execution_count": 92,
   "id": "2fdadccc-1aba-4bb3-8d43-6ad369f33181",
   "metadata": {},
   "outputs": [
    {
     "name": "stdout",
     "output_type": "stream",
     "text": [
      "<class 'pandas.core.frame.DataFrame'>\n",
      "RangeIndex: 1000 entries, 0 to 999\n",
      "Data columns (total 7 columns):\n",
      " #   Column              Non-Null Count  Dtype         \n",
      "---  ------              --------------  -----         \n",
      " 0   CustomerID          1000 non-null   int64         \n",
      " 1   PurchaseDate        1000 non-null   datetime64[ns]\n",
      " 2   TransactionAmount   1000 non-null   float64       \n",
      " 3   ProductInformation  1000 non-null   object        \n",
      " 4   OrderID             1000 non-null   int64         \n",
      " 5   Location            1000 non-null   object        \n",
      " 6   difference          1000 non-null   int64         \n",
      "dtypes: datetime64[ns](1), float64(1), int64(3), object(2)\n",
      "memory usage: 54.8+ KB\n"
     ]
    }
   ],
   "source": [
    "df.info()"
   ]
  },
  {
   "cell_type": "code",
   "execution_count": 93,
   "id": "836307ca-201b-4aca-a5d1-a8c00ef6f1da",
   "metadata": {},
   "outputs": [
    {
     "data": {
      "text/html": [
       "<div>\n",
       "<style scoped>\n",
       "    .dataframe tbody tr th:only-of-type {\n",
       "        vertical-align: middle;\n",
       "    }\n",
       "\n",
       "    .dataframe tbody tr th {\n",
       "        vertical-align: top;\n",
       "    }\n",
       "\n",
       "    .dataframe thead th {\n",
       "        text-align: right;\n",
       "    }\n",
       "</style>\n",
       "<table border=\"1\" class=\"dataframe\">\n",
       "  <thead>\n",
       "    <tr style=\"text-align: right;\">\n",
       "      <th></th>\n",
       "      <th>CustomerID</th>\n",
       "      <th>TransactionAmount</th>\n",
       "      <th>OrderID</th>\n",
       "      <th>difference</th>\n",
       "    </tr>\n",
       "  </thead>\n",
       "  <tbody>\n",
       "    <tr>\n",
       "      <th>count</th>\n",
       "      <td>1000.000000</td>\n",
       "      <td>1000.00000</td>\n",
       "      <td>1000.000000</td>\n",
       "      <td>1000.000000</td>\n",
       "    </tr>\n",
       "    <tr>\n",
       "      <th>mean</th>\n",
       "      <td>5554.789000</td>\n",
       "      <td>513.67781</td>\n",
       "      <td>554071.398000</td>\n",
       "      <td>154.689000</td>\n",
       "    </tr>\n",
       "    <tr>\n",
       "      <th>std</th>\n",
       "      <td>2605.014863</td>\n",
       "      <td>286.09870</td>\n",
       "      <td>264695.448814</td>\n",
       "      <td>17.323579</td>\n",
       "    </tr>\n",
       "    <tr>\n",
       "      <th>min</th>\n",
       "      <td>1011.000000</td>\n",
       "      <td>12.13000</td>\n",
       "      <td>100096.000000</td>\n",
       "      <td>124.000000</td>\n",
       "    </tr>\n",
       "    <tr>\n",
       "      <th>25%</th>\n",
       "      <td>3273.000000</td>\n",
       "      <td>257.12000</td>\n",
       "      <td>313152.000000</td>\n",
       "      <td>139.000000</td>\n",
       "    </tr>\n",
       "    <tr>\n",
       "      <th>50%</th>\n",
       "      <td>5538.000000</td>\n",
       "      <td>523.56500</td>\n",
       "      <td>564671.500000</td>\n",
       "      <td>156.000000</td>\n",
       "    </tr>\n",
       "    <tr>\n",
       "      <th>75%</th>\n",
       "      <td>7821.750000</td>\n",
       "      <td>759.86000</td>\n",
       "      <td>783052.250000</td>\n",
       "      <td>169.000000</td>\n",
       "    </tr>\n",
       "    <tr>\n",
       "      <th>max</th>\n",
       "      <td>9991.000000</td>\n",
       "      <td>999.44000</td>\n",
       "      <td>999695.000000</td>\n",
       "      <td>184.000000</td>\n",
       "    </tr>\n",
       "  </tbody>\n",
       "</table>\n",
       "</div>"
      ],
      "text/plain": [
       "        CustomerID  TransactionAmount        OrderID   difference\n",
       "count  1000.000000         1000.00000    1000.000000  1000.000000\n",
       "mean   5554.789000          513.67781  554071.398000   154.689000\n",
       "std    2605.014863          286.09870  264695.448814    17.323579\n",
       "min    1011.000000           12.13000  100096.000000   124.000000\n",
       "25%    3273.000000          257.12000  313152.000000   139.000000\n",
       "50%    5538.000000          523.56500  564671.500000   156.000000\n",
       "75%    7821.750000          759.86000  783052.250000   169.000000\n",
       "max    9991.000000          999.44000  999695.000000   184.000000"
      ]
     },
     "execution_count": 93,
     "metadata": {},
     "output_type": "execute_result"
    }
   ],
   "source": [
    "df.describe()"
   ]
  },
  {
   "cell_type": "code",
   "execution_count": 94,
   "id": "a86e332d-827f-4553-bd4a-12078781ccc3",
   "metadata": {},
   "outputs": [
    {
     "data": {
      "text/html": [
       "<div>\n",
       "<style scoped>\n",
       "    .dataframe tbody tr th:only-of-type {\n",
       "        vertical-align: middle;\n",
       "    }\n",
       "\n",
       "    .dataframe tbody tr th {\n",
       "        vertical-align: top;\n",
       "    }\n",
       "\n",
       "    .dataframe thead th {\n",
       "        text-align: right;\n",
       "    }\n",
       "</style>\n",
       "<table border=\"1\" class=\"dataframe\">\n",
       "  <thead>\n",
       "    <tr style=\"text-align: right;\">\n",
       "      <th></th>\n",
       "      <th>CustomerID</th>\n",
       "      <th>PurchaseDate</th>\n",
       "      <th>TransactionAmount</th>\n",
       "      <th>ProductInformation</th>\n",
       "      <th>OrderID</th>\n",
       "      <th>Location</th>\n",
       "      <th>difference</th>\n",
       "    </tr>\n",
       "  </thead>\n",
       "  <tbody>\n",
       "    <tr>\n",
       "      <th>0</th>\n",
       "      <td>False</td>\n",
       "      <td>False</td>\n",
       "      <td>False</td>\n",
       "      <td>False</td>\n",
       "      <td>False</td>\n",
       "      <td>False</td>\n",
       "      <td>False</td>\n",
       "    </tr>\n",
       "    <tr>\n",
       "      <th>1</th>\n",
       "      <td>False</td>\n",
       "      <td>False</td>\n",
       "      <td>False</td>\n",
       "      <td>False</td>\n",
       "      <td>False</td>\n",
       "      <td>False</td>\n",
       "      <td>False</td>\n",
       "    </tr>\n",
       "    <tr>\n",
       "      <th>2</th>\n",
       "      <td>False</td>\n",
       "      <td>False</td>\n",
       "      <td>False</td>\n",
       "      <td>False</td>\n",
       "      <td>False</td>\n",
       "      <td>False</td>\n",
       "      <td>False</td>\n",
       "    </tr>\n",
       "    <tr>\n",
       "      <th>3</th>\n",
       "      <td>False</td>\n",
       "      <td>False</td>\n",
       "      <td>False</td>\n",
       "      <td>False</td>\n",
       "      <td>False</td>\n",
       "      <td>False</td>\n",
       "      <td>False</td>\n",
       "    </tr>\n",
       "    <tr>\n",
       "      <th>4</th>\n",
       "      <td>False</td>\n",
       "      <td>False</td>\n",
       "      <td>False</td>\n",
       "      <td>False</td>\n",
       "      <td>False</td>\n",
       "      <td>False</td>\n",
       "      <td>False</td>\n",
       "    </tr>\n",
       "    <tr>\n",
       "      <th>...</th>\n",
       "      <td>...</td>\n",
       "      <td>...</td>\n",
       "      <td>...</td>\n",
       "      <td>...</td>\n",
       "      <td>...</td>\n",
       "      <td>...</td>\n",
       "      <td>...</td>\n",
       "    </tr>\n",
       "    <tr>\n",
       "      <th>995</th>\n",
       "      <td>False</td>\n",
       "      <td>False</td>\n",
       "      <td>False</td>\n",
       "      <td>False</td>\n",
       "      <td>False</td>\n",
       "      <td>False</td>\n",
       "      <td>False</td>\n",
       "    </tr>\n",
       "    <tr>\n",
       "      <th>996</th>\n",
       "      <td>False</td>\n",
       "      <td>False</td>\n",
       "      <td>False</td>\n",
       "      <td>False</td>\n",
       "      <td>False</td>\n",
       "      <td>False</td>\n",
       "      <td>False</td>\n",
       "    </tr>\n",
       "    <tr>\n",
       "      <th>997</th>\n",
       "      <td>False</td>\n",
       "      <td>False</td>\n",
       "      <td>False</td>\n",
       "      <td>False</td>\n",
       "      <td>False</td>\n",
       "      <td>False</td>\n",
       "      <td>False</td>\n",
       "    </tr>\n",
       "    <tr>\n",
       "      <th>998</th>\n",
       "      <td>False</td>\n",
       "      <td>False</td>\n",
       "      <td>False</td>\n",
       "      <td>False</td>\n",
       "      <td>False</td>\n",
       "      <td>False</td>\n",
       "      <td>False</td>\n",
       "    </tr>\n",
       "    <tr>\n",
       "      <th>999</th>\n",
       "      <td>False</td>\n",
       "      <td>False</td>\n",
       "      <td>False</td>\n",
       "      <td>False</td>\n",
       "      <td>False</td>\n",
       "      <td>False</td>\n",
       "      <td>False</td>\n",
       "    </tr>\n",
       "  </tbody>\n",
       "</table>\n",
       "<p>1000 rows × 7 columns</p>\n",
       "</div>"
      ],
      "text/plain": [
       "     CustomerID  PurchaseDate  TransactionAmount  ProductInformation  OrderID  \\\n",
       "0         False         False              False               False    False   \n",
       "1         False         False              False               False    False   \n",
       "2         False         False              False               False    False   \n",
       "3         False         False              False               False    False   \n",
       "4         False         False              False               False    False   \n",
       "..          ...           ...                ...                 ...      ...   \n",
       "995       False         False              False               False    False   \n",
       "996       False         False              False               False    False   \n",
       "997       False         False              False               False    False   \n",
       "998       False         False              False               False    False   \n",
       "999       False         False              False               False    False   \n",
       "\n",
       "     Location  difference  \n",
       "0       False       False  \n",
       "1       False       False  \n",
       "2       False       False  \n",
       "3       False       False  \n",
       "4       False       False  \n",
       "..        ...         ...  \n",
       "995     False       False  \n",
       "996     False       False  \n",
       "997     False       False  \n",
       "998     False       False  \n",
       "999     False       False  \n",
       "\n",
       "[1000 rows x 7 columns]"
      ]
     },
     "execution_count": 94,
     "metadata": {},
     "output_type": "execute_result"
    }
   ],
   "source": [
    "df.isna()"
   ]
  },
  {
   "cell_type": "code",
   "execution_count": 95,
   "id": "87ec25e8-af1d-45b9-93ef-ae05c07b00bb",
   "metadata": {},
   "outputs": [
    {
     "data": {
      "text/html": [
       "<div>\n",
       "<style scoped>\n",
       "    .dataframe tbody tr th:only-of-type {\n",
       "        vertical-align: middle;\n",
       "    }\n",
       "\n",
       "    .dataframe tbody tr th {\n",
       "        vertical-align: top;\n",
       "    }\n",
       "\n",
       "    .dataframe thead th {\n",
       "        text-align: right;\n",
       "    }\n",
       "</style>\n",
       "<table border=\"1\" class=\"dataframe\">\n",
       "  <thead>\n",
       "    <tr style=\"text-align: right;\">\n",
       "      <th></th>\n",
       "      <th>CustomerID</th>\n",
       "      <th>PurchaseDate</th>\n",
       "      <th>TransactionAmount</th>\n",
       "      <th>ProductInformation</th>\n",
       "      <th>OrderID</th>\n",
       "      <th>Location</th>\n",
       "      <th>difference</th>\n",
       "    </tr>\n",
       "  </thead>\n",
       "  <tbody>\n",
       "    <tr>\n",
       "      <th>0</th>\n",
       "      <td>8814</td>\n",
       "      <td>2023-04-11</td>\n",
       "      <td>943.31</td>\n",
       "      <td>Product C</td>\n",
       "      <td>890075</td>\n",
       "      <td>Tokyo</td>\n",
       "      <td>184</td>\n",
       "    </tr>\n",
       "    <tr>\n",
       "      <th>1</th>\n",
       "      <td>2188</td>\n",
       "      <td>2023-04-11</td>\n",
       "      <td>463.70</td>\n",
       "      <td>Product A</td>\n",
       "      <td>176819</td>\n",
       "      <td>London</td>\n",
       "      <td>184</td>\n",
       "    </tr>\n",
       "    <tr>\n",
       "      <th>2</th>\n",
       "      <td>4608</td>\n",
       "      <td>2023-04-11</td>\n",
       "      <td>80.28</td>\n",
       "      <td>Product A</td>\n",
       "      <td>340062</td>\n",
       "      <td>New York</td>\n",
       "      <td>184</td>\n",
       "    </tr>\n",
       "    <tr>\n",
       "      <th>3</th>\n",
       "      <td>2559</td>\n",
       "      <td>2023-04-11</td>\n",
       "      <td>221.29</td>\n",
       "      <td>Product A</td>\n",
       "      <td>239145</td>\n",
       "      <td>London</td>\n",
       "      <td>184</td>\n",
       "    </tr>\n",
       "    <tr>\n",
       "      <th>4</th>\n",
       "      <td>9482</td>\n",
       "      <td>2023-04-11</td>\n",
       "      <td>739.56</td>\n",
       "      <td>Product A</td>\n",
       "      <td>194545</td>\n",
       "      <td>Paris</td>\n",
       "      <td>184</td>\n",
       "    </tr>\n",
       "    <tr>\n",
       "      <th>...</th>\n",
       "      <td>...</td>\n",
       "      <td>...</td>\n",
       "      <td>...</td>\n",
       "      <td>...</td>\n",
       "      <td>...</td>\n",
       "      <td>...</td>\n",
       "      <td>...</td>\n",
       "    </tr>\n",
       "    <tr>\n",
       "      <th>995</th>\n",
       "      <td>2970</td>\n",
       "      <td>2023-06-10</td>\n",
       "      <td>759.62</td>\n",
       "      <td>Product B</td>\n",
       "      <td>275284</td>\n",
       "      <td>London</td>\n",
       "      <td>124</td>\n",
       "    </tr>\n",
       "    <tr>\n",
       "      <th>996</th>\n",
       "      <td>6669</td>\n",
       "      <td>2023-06-10</td>\n",
       "      <td>941.50</td>\n",
       "      <td>Product C</td>\n",
       "      <td>987025</td>\n",
       "      <td>New York</td>\n",
       "      <td>124</td>\n",
       "    </tr>\n",
       "    <tr>\n",
       "      <th>997</th>\n",
       "      <td>8836</td>\n",
       "      <td>2023-06-10</td>\n",
       "      <td>545.36</td>\n",
       "      <td>Product C</td>\n",
       "      <td>512842</td>\n",
       "      <td>London</td>\n",
       "      <td>124</td>\n",
       "    </tr>\n",
       "    <tr>\n",
       "      <th>998</th>\n",
       "      <td>1440</td>\n",
       "      <td>2023-06-10</td>\n",
       "      <td>729.94</td>\n",
       "      <td>Product B</td>\n",
       "      <td>559753</td>\n",
       "      <td>Paris</td>\n",
       "      <td>124</td>\n",
       "    </tr>\n",
       "    <tr>\n",
       "      <th>999</th>\n",
       "      <td>4759</td>\n",
       "      <td>2023-06-10</td>\n",
       "      <td>804.28</td>\n",
       "      <td>Product D</td>\n",
       "      <td>467544</td>\n",
       "      <td>New York</td>\n",
       "      <td>124</td>\n",
       "    </tr>\n",
       "  </tbody>\n",
       "</table>\n",
       "<p>1000 rows × 7 columns</p>\n",
       "</div>"
      ],
      "text/plain": [
       "     CustomerID PurchaseDate  TransactionAmount ProductInformation  OrderID  \\\n",
       "0          8814   2023-04-11             943.31          Product C   890075   \n",
       "1          2188   2023-04-11             463.70          Product A   176819   \n",
       "2          4608   2023-04-11              80.28          Product A   340062   \n",
       "3          2559   2023-04-11             221.29          Product A   239145   \n",
       "4          9482   2023-04-11             739.56          Product A   194545   \n",
       "..          ...          ...                ...                ...      ...   \n",
       "995        2970   2023-06-10             759.62          Product B   275284   \n",
       "996        6669   2023-06-10             941.50          Product C   987025   \n",
       "997        8836   2023-06-10             545.36          Product C   512842   \n",
       "998        1440   2023-06-10             729.94          Product B   559753   \n",
       "999        4759   2023-06-10             804.28          Product D   467544   \n",
       "\n",
       "     Location  difference  \n",
       "0       Tokyo         184  \n",
       "1      London         184  \n",
       "2    New York         184  \n",
       "3      London         184  \n",
       "4       Paris         184  \n",
       "..        ...         ...  \n",
       "995    London         124  \n",
       "996  New York         124  \n",
       "997    London         124  \n",
       "998     Paris         124  \n",
       "999  New York         124  \n",
       "\n",
       "[1000 rows x 7 columns]"
      ]
     },
     "execution_count": 95,
     "metadata": {},
     "output_type": "execute_result"
    }
   ],
   "source": [
    "df.dropna()"
   ]
  },
  {
   "cell_type": "code",
   "execution_count": 96,
   "id": "6f166a54-de5f-42a3-915e-3e554d6ec58f",
   "metadata": {},
   "outputs": [
    {
     "data": {
      "text/plain": [
       "7"
      ]
     },
     "execution_count": 96,
     "metadata": {},
     "output_type": "execute_result"
    }
   ],
   "source": [
    "df.shape[1]"
   ]
  },
  {
   "cell_type": "code",
   "execution_count": 98,
   "id": "01666fa9-8b63-43ad-a714-7d52ff68429b",
   "metadata": {},
   "outputs": [],
   "source": [
    "df['PurchaseDate'] = pd.to_datetime(df['PurchaseDate'])"
   ]
  },
  {
   "cell_type": "code",
   "execution_count": 40,
   "id": "874b0bdd-fcad-49bb-9f54-900dbf0ef3d5",
   "metadata": {},
   "outputs": [
    {
     "name": "stdout",
     "output_type": "stream",
     "text": [
      "0     2023-04-11\n",
      "1     2023-04-11\n",
      "2     2023-04-11\n",
      "3     2023-04-11\n",
      "4     2023-04-11\n",
      "         ...    \n",
      "995   2023-06-10\n",
      "996   2023-06-10\n",
      "997   2023-06-10\n",
      "998   2023-06-10\n",
      "999   2023-06-10\n",
      "Name: PurchaseDate, Length: 1000, dtype: datetime64[ns]\n"
     ]
    }
   ],
   "source": [
    "df.head()\n",
    "print(df['PurchaseDate'])\n",
    "#print(datetime.today().date())"
   ]
  },
  {
   "cell_type": "code",
   "execution_count": 129,
   "id": "709d3221-885e-4678-b9f1-3a5585ac82cc",
   "metadata": {},
   "outputs": [],
   "source": [
    "today = datetime.datetime.now()\n",
    "df['difference'] =   (today - df['PurchaseDate']).dt.days"
   ]
  },
  {
   "cell_type": "code",
   "execution_count": 100,
   "id": "3e822c4f-a1a5-417b-9ba4-0db5ad408b43",
   "metadata": {},
   "outputs": [
    {
     "name": "stdout",
     "output_type": "stream",
     "text": [
      "0      184\n",
      "1      184\n",
      "2      184\n",
      "3      184\n",
      "4      184\n",
      "      ... \n",
      "995    124\n",
      "996    124\n",
      "997    124\n",
      "998    124\n",
      "999    124\n",
      "Name: PurchaseDate, Length: 1000, dtype: int64\n"
     ]
    }
   ],
   "source": [
    "print(difference) #check the difference of recent purchase."
   ]
  },
  {
   "cell_type": "code",
   "execution_count": 101,
   "id": "ac2a0096-97ee-4491-b013-b51a4f869bcd",
   "metadata": {},
   "outputs": [
    {
     "data": {
      "text/plain": [
       "513677.81"
      ]
     },
     "execution_count": 101,
     "metadata": {},
     "output_type": "execute_result"
    }
   ],
   "source": [
    "df['TransactionAmount'].sum()"
   ]
  },
  {
   "cell_type": "code",
   "execution_count": 108,
   "id": "300d27fa-1fb7-4652-8cf8-c6fc3aaab0c2",
   "metadata": {},
   "outputs": [
    {
     "name": "stdout",
     "output_type": "stream",
     "text": [
      "The Recent Purchase : CustomerID\n",
      "1011   2023-05-08\n",
      "1025   2023-05-20\n",
      "1029   2023-06-10\n",
      "1046   2023-04-28\n",
      "Name: PurchaseDate, dtype: datetime64[ns] ,\n",
      "\b The frequency since 2023 is : CustomerID\n",
      "1011    2\n",
      "1025    1\n",
      "1029    1\n",
      "1046    1\n",
      "Name: PurchaseDate, dtype: int64 ,\n",
      "\b The Monetary value is:  CustomerID\n",
      "1011    1129.02\n",
      "1025     359.29\n",
      "1029     704.99\n",
      "1046     859.82\n",
      "Name: TransactionAmount, dtype: float64\n"
     ]
    }
   ],
   "source": [
    "# Calculate Recency: the number of days since the last purchase for each customer\n",
    "recency = df.groupby('CustomerID')['PurchaseDate'].max().head(4)\n",
    "\n",
    "# Calculate Frequency: the number of purchases made by each customer\n",
    "frequency = df.groupby('CustomerID')['PurchaseDate'].count().head(4)\n",
    "\n",
    "# Calculate Monetary Value: the total purchase amount for each customer\n",
    "monetary_value = df.groupby('CustomerID')['TransactionAmount'].sum().head(4)\n",
    "print(\"The Recent Purchase : {} ,\\n\\b The frequency since 2023 is : {} ,\\n\\b The Monetary value is:  {}\".format(recency, frequency, monetary_value)  )"
   ]
  },
  {
   "cell_type": "code",
   "execution_count": 109,
   "id": "c9bc64d4-3eae-4001-b380-9289501b384c",
   "metadata": {},
   "outputs": [],
   "source": [
    "#Let us now create a new dataframe with Recency Frequency and Monetary Value.\n",
    "#We use pandas pd.DataFrame()"
   ]
  },
  {
   "cell_type": "code",
   "execution_count": 49,
   "id": "f77597db-7b25-49b8-a6c4-1094dbc24dfa",
   "metadata": {},
   "outputs": [],
   "source": [
    "rfmDataFrame = pd.DataFrame({\n",
    "    'recency': recency,\n",
    "    'frequency': frequency,\n",
    "    'monetary_value': monetary_value\n",
    "})"
   ]
  },
  {
   "cell_type": "code",
   "execution_count": 50,
   "id": "8b2b3d51-fff1-4daa-8e0b-62fe709241e8",
   "metadata": {},
   "outputs": [],
   "source": [
    "percentages  = rfmDataFrame.rank(pct=True) #Use percentages to rank the customers."
   ]
  },
  {
   "cell_type": "code",
   "execution_count": 51,
   "id": "0a9ba28c-d0de-487c-8580-121132a416f9",
   "metadata": {},
   "outputs": [],
   "source": [
    "#Create a RFM score."
   ]
  },
  {
   "cell_type": "code",
   "execution_count": 87,
   "id": "09fea0d1-57e7-417c-a8eb-3d0c88951dc8",
   "metadata": {},
   "outputs": [],
   "source": [
    "RFM_Score = percentages['recency'] * 100 + percentages['frequency'] * 100 + percentages['monetary_value'] * 100\n",
    "rfmDataFrame['RFM_SCORES'] = RFM_Score"
   ]
  },
  {
   "cell_type": "code",
   "execution_count": 54,
   "id": "0668617e-5617-4b48-a55c-3fb1c5e6a00c",
   "metadata": {},
   "outputs": [],
   "source": [
    "#Rank the customers RFM now into groups."
   ]
  },
  {
   "cell_type": "code",
   "execution_count": 88,
   "id": "3fbf5caa-8cfe-488a-b457-2c0d010b4e67",
   "metadata": {},
   "outputs": [],
   "source": [
    "def checkScore(data_frame):\n",
    "    if pd.isnull(data_frame['RFM_SCORES']):\n",
    "        return 'NaN Score'\n",
    "    elif data_frame['RFM_SCORES'] >= 200:\n",
    "        return 'High Score'\n",
    "    elif (data_frame['RFM_SCORES'] >= 100) and (data_frame['RFM_SCORES'] < 200):\n",
    "        return 'Mid Score'\n",
    "    else:\n",
    "        return 'Low Score'"
   ]
  },
  {
   "cell_type": "code",
   "execution_count": 89,
   "id": "251cae17-3264-4a4d-a942-54f02c1adfc7",
   "metadata": {},
   "outputs": [],
   "source": [
    "#Apply segmentation function to create 'RFM_Segment' column\n",
    "rfmDataFrame['RFM_Segment'] = rfmDataFrame.apply(checkScore, axis=1)"
   ]
  },
  {
   "cell_type": "code",
   "execution_count": 90,
   "id": "68ee85e9-1a59-4fc7-9162-7c9b7b1b19d1",
   "metadata": {},
   "outputs": [
    {
     "name": "stdout",
     "output_type": "stream",
     "text": [
      "              recency  frequency  monetary_value RFM_Segment  RFM_SCORES\n",
      "CustomerID                                                              \n",
      "1011       2023-05-08          2         1129.02  High Score  241.966173\n",
      "1025       2023-05-20          1          359.29   Mid Score  143.604651\n",
      "1029       2023-06-10          1          704.99  High Score  213.213531\n",
      "1046       2023-04-28          1          859.82   Mid Score  158.298097\n",
      "1049       2023-05-28          1          225.72   Mid Score  146.617336\n",
      "...               ...        ...             ...         ...         ...\n",
      "9941       2023-04-29          1          960.53   Mid Score  169.503171\n",
      "9950       2023-05-03          1          679.11   Mid Score  148.097252\n",
      "9954       2023-05-29          1          798.01  High Score  204.492600\n",
      "9985       2023-04-14          1           36.10   Low Score   54.704017\n",
      "9991       2023-05-11          1          626.81   Mid Score  157.241015\n",
      "\n",
      "[946 rows x 5 columns]\n"
     ]
    }
   ],
   "source": [
    "print(rfmDataFrame)"
   ]
  },
  {
   "cell_type": "code",
   "execution_count": 114,
   "id": "2e064bb0-bdd9-4259-b6bc-376215920980",
   "metadata": {},
   "outputs": [
    {
     "data": {
      "text/plain": [
       "CustomerID\n",
       "1011    High Score\n",
       "1025     Mid Score\n",
       "1029    High Score\n",
       "1046     Mid Score\n",
       "1049     Mid Score\n",
       "           ...    \n",
       "9941     Mid Score\n",
       "9950     Mid Score\n",
       "9954    High Score\n",
       "9985     Low Score\n",
       "9991     Mid Score\n",
       "Name: RFM_Segment, Length: 946, dtype: object"
      ]
     },
     "execution_count": 114,
     "metadata": {},
     "output_type": "execute_result"
    }
   ],
   "source": [
    "rfmDataFrame['RFM_Segment']"
   ]
  },
  {
   "cell_type": "code",
   "execution_count": 122,
   "id": "29142ad3-3cde-4fc5-890c-7d9dd9b945e4",
   "metadata": {},
   "outputs": [],
   "source": [
    "#rfmDataFrame.loc[(rfmDataFrame['RFM_Segment'] == \"High Score\").count()]"
   ]
  },
  {
   "cell_type": "code",
   "execution_count": 121,
   "id": "11e9cba4-3f87-468e-8828-4c55ccd923a7",
   "metadata": {},
   "outputs": [
    {
     "data": {
      "text/html": [
       "<div>\n",
       "<style scoped>\n",
       "    .dataframe tbody tr th:only-of-type {\n",
       "        vertical-align: middle;\n",
       "    }\n",
       "\n",
       "    .dataframe tbody tr th {\n",
       "        vertical-align: top;\n",
       "    }\n",
       "\n",
       "    .dataframe thead th {\n",
       "        text-align: right;\n",
       "    }\n",
       "</style>\n",
       "<table border=\"1\" class=\"dataframe\">\n",
       "  <thead>\n",
       "    <tr style=\"text-align: right;\">\n",
       "      <th></th>\n",
       "      <th>recency</th>\n",
       "      <th>frequency</th>\n",
       "      <th>monetary_value</th>\n",
       "      <th>RFM_Segment</th>\n",
       "      <th>RFM_SCORES</th>\n",
       "    </tr>\n",
       "    <tr>\n",
       "      <th>CustomerID</th>\n",
       "      <th></th>\n",
       "      <th></th>\n",
       "      <th></th>\n",
       "      <th></th>\n",
       "      <th></th>\n",
       "    </tr>\n",
       "  </thead>\n",
       "  <tbody>\n",
       "    <tr>\n",
       "      <th>1011</th>\n",
       "      <td>2023-05-08</td>\n",
       "      <td>2</td>\n",
       "      <td>1129.02</td>\n",
       "      <td>High Score</td>\n",
       "      <td>241.966173</td>\n",
       "    </tr>\n",
       "    <tr>\n",
       "      <th>1029</th>\n",
       "      <td>2023-06-10</td>\n",
       "      <td>1</td>\n",
       "      <td>704.99</td>\n",
       "      <td>High Score</td>\n",
       "      <td>213.213531</td>\n",
       "    </tr>\n",
       "    <tr>\n",
       "      <th>1190</th>\n",
       "      <td>2023-05-22</td>\n",
       "      <td>1</td>\n",
       "      <td>935.03</td>\n",
       "      <td>High Score</td>\n",
       "      <td>204.228330</td>\n",
       "    </tr>\n",
       "    <tr>\n",
       "      <th>1305</th>\n",
       "      <td>2023-06-06</td>\n",
       "      <td>2</td>\n",
       "      <td>1234.46</td>\n",
       "      <td>High Score</td>\n",
       "      <td>289.957717</td>\n",
       "    </tr>\n",
       "    <tr>\n",
       "      <th>1439</th>\n",
       "      <td>2023-06-04</td>\n",
       "      <td>1</td>\n",
       "      <td>848.60</td>\n",
       "      <td>High Score</td>\n",
       "      <td>220.454545</td>\n",
       "    </tr>\n",
       "    <tr>\n",
       "      <th>...</th>\n",
       "      <td>...</td>\n",
       "      <td>...</td>\n",
       "      <td>...</td>\n",
       "      <td>...</td>\n",
       "      <td>...</td>\n",
       "    </tr>\n",
       "    <tr>\n",
       "      <th>9680</th>\n",
       "      <td>2023-04-30</td>\n",
       "      <td>2</td>\n",
       "      <td>844.60</td>\n",
       "      <td>High Score</td>\n",
       "      <td>210.782241</td>\n",
       "    </tr>\n",
       "    <tr>\n",
       "      <th>9824</th>\n",
       "      <td>2023-05-11</td>\n",
       "      <td>2</td>\n",
       "      <td>622.27</td>\n",
       "      <td>High Score</td>\n",
       "      <td>206.448203</td>\n",
       "    </tr>\n",
       "    <tr>\n",
       "      <th>9871</th>\n",
       "      <td>2023-05-07</td>\n",
       "      <td>2</td>\n",
       "      <td>1820.53</td>\n",
       "      <td>High Score</td>\n",
       "      <td>242.336152</td>\n",
       "    </tr>\n",
       "    <tr>\n",
       "      <th>9880</th>\n",
       "      <td>2023-06-02</td>\n",
       "      <td>1</td>\n",
       "      <td>759.22</td>\n",
       "      <td>High Score</td>\n",
       "      <td>206.501057</td>\n",
       "    </tr>\n",
       "    <tr>\n",
       "      <th>9954</th>\n",
       "      <td>2023-05-29</td>\n",
       "      <td>1</td>\n",
       "      <td>798.01</td>\n",
       "      <td>High Score</td>\n",
       "      <td>204.492600</td>\n",
       "    </tr>\n",
       "  </tbody>\n",
       "</table>\n",
       "<p>128 rows × 5 columns</p>\n",
       "</div>"
      ],
      "text/plain": [
       "              recency  frequency  monetary_value RFM_Segment  RFM_SCORES\n",
       "CustomerID                                                              \n",
       "1011       2023-05-08          2         1129.02  High Score  241.966173\n",
       "1029       2023-06-10          1          704.99  High Score  213.213531\n",
       "1190       2023-05-22          1          935.03  High Score  204.228330\n",
       "1305       2023-06-06          2         1234.46  High Score  289.957717\n",
       "1439       2023-06-04          1          848.60  High Score  220.454545\n",
       "...               ...        ...             ...         ...         ...\n",
       "9680       2023-04-30          2          844.60  High Score  210.782241\n",
       "9824       2023-05-11          2          622.27  High Score  206.448203\n",
       "9871       2023-05-07          2         1820.53  High Score  242.336152\n",
       "9880       2023-06-02          1          759.22  High Score  206.501057\n",
       "9954       2023-05-29          1          798.01  High Score  204.492600\n",
       "\n",
       "[128 rows x 5 columns]"
      ]
     },
     "execution_count": 121,
     "metadata": {},
     "output_type": "execute_result"
    }
   ],
   "source": [
    "rfmDataFrame.loc[(rfmDataFrame['RFM_Segment'] == \"High Score\")]"
   ]
  },
  {
   "cell_type": "code",
   "execution_count": 123,
   "id": "cbf6fca6-c934-466f-8774-1567700564f8",
   "metadata": {},
   "outputs": [],
   "source": [
    "#Now Plot the data"
   ]
  },
  {
   "cell_type": "code",
   "execution_count": 134,
   "id": "c397d191-2b17-4b82-924f-144b9e661219",
   "metadata": {},
   "outputs": [
    {
     "data": {
      "image/png": "[encoded data removed]",
      "text/plain": [
       "<Figure size 720x432 with 1 Axes>"
      ]
     },
     "metadata": {
      "needs_background": "light"
     },
     "output_type": "display_data"
    }
   ],
   "source": [
    "plt.figure(figsize=(10, 6))\n",
    "\n",
    "# Create a scatter plot for Recency vs Frequency\n",
    "plt.scatter(rfmDataFrame['recency'], rfmDataFrame['frequency'], color='blue', label='Recency vs Frequency')\n",
    "\n",
    "# Customize the plot\n",
    "plt.title('Recency vs Frequency')\n",
    "plt.xlabel('Recency')\n",
    "plt.ylabel('Frequency')\n",
    "plt.legend()\n",
    "plt.grid(True)\n",
    "plt.show()"
   ]
  },
  {
   "cell_type": "code",
   "execution_count": 126,
   "id": "2e7bf0fa-1bc2-434b-975e-8e1dbb885672",
   "metadata": {},
   "outputs": [
    {
     "data": {
      "image/png": "[encoded data removed]",
      "text/plain": [
       "<Figure size 720x432 with 1 Axes>"
      ]
     },
     "metadata": {
      "needs_background": "light"
     },
     "output_type": "display_data"
    }
   ],
   "source": [
    "plt.figure(figsize=(10, 6))\n",
    "\n",
    "# Create a scatter plot for Recency vs Frequency\n",
    "plt.scatter(rfmDataFrame['monetary_value'], rfmDataFrame['frequency'], color='blue', label='Recency vs Frequency')\n",
    "\n",
    "# Customize the plot\n",
    "plt.title('Monetary_Value vs Frequency')\n",
    "plt.xlabel('Monetary Value')\n",
    "plt.ylabel('Frequency')\n",
    "plt.legend()\n",
    "plt.grid(True)\n",
    "plt.show()"
   ]
  },
  {
   "cell_type": "code",
   "execution_count": 133,
   "id": "2fc091a5-f624-4395-9960-a2f7dff5ae7e",
   "metadata": {},
   "outputs": [
    {
     "data": {
      "image/png": "[encoded data removed]",
      "text/plain": [
       "<Figure size 720x432 with 1 Axes>"
      ]
     },
     "metadata": {
      "needs_background": "light"
     },
     "output_type": "display_data"
    }
   ],
   "source": [
    "\n",
    "plt.figure(figsize=(10, 6))\n",
    "\n",
    "# Create a line chart for RFM scores vs customer segments\n",
    "\n",
    "plt.plot(rfmDataFrame['monetary_value'],rfmDataFrame['frequency'], marker='o', color='b', label='RFM Scores')\n",
    "\n",
    "# Customize the plot\n",
    "plt.title('Monetary Value vs Frequency')\n",
    "plt.xlabel('Customer Segments')\n",
    "plt.ylabel('RFM Scores')\n",
    "plt.legend()\n",
    "plt.grid(True)\n",
    "plt.xticks(rotation=45)  # Rotate x-axis labels for better visibility\n",
    "plt.show()\n"
   ]
  },
  {
   "cell_type": "code",
   "execution_count": null,
   "id": "6b648c4a-39dc-4a85-b689-e5531c2b4eab",
   "metadata": {},
   "outputs": [],
   "source": []
  }
 ],
 "metadata": {
  "kernelspec": {
   "display_name": "Python 3 (ipykernel)",
   "language": "python",
   "name": "python3"
  },
  "language_info": {
   "codemirror_mode": {
    "name": "ipython",
    "version": 3
   },
   "file_extension": ".py",
   "mimetype": "text/x-python",
   "name": "python",
   "nbconvert_exporter": "python",
   "pygments_lexer": "ipython3",
   "version": "3.9.12"
  }
 },
 "nbformat": 4,
 "nbformat_minor": 5
}
